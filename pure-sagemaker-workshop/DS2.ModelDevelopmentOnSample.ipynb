{
 "cells": [
  {
   "cell_type": "code",
   "execution_count": null,
   "metadata": {},
   "outputs": [],
   "source": [
    "import pandas as pd\n",
    "import numpy as np\n",
    "import sklearn\n",
    "from sklearn.ensemble import RandomForestRegressor\n",
    "import matplotlib.pyplot as plt\n",
    "import awswrangler as wr"
   ]
  },
  {
   "cell_type": "code",
   "execution_count": null,
   "metadata": {},
   "outputs": [],
   "source": [
    "#GET DF FROM ATHENA BILLING SAMPLE\n",
    "df = wr.athena.read_sql_query(\"select * from resellers_sample\", database=\"implementationdb\")"
   ]
  },
  {
   "cell_type": "code",
   "execution_count": null,
   "metadata": {},
   "outputs": [],
   "source": [
    "#GET DF FROM ATHENA RESELLER universe\n",
    "df_r = wr.athena.read_sql_query(\"select * from reseller\", database=\"implementationdb\")"
   ]
  },
  {
   "cell_type": "code",
   "execution_count": null,
   "metadata": {},
   "outputs": [],
   "source": [
    "df.head()"
   ]
  },
  {
   "cell_type": "code",
   "execution_count": null,
   "metadata": {},
   "outputs": [],
   "source": [
    "df_r.head()"
   ]
  },
  {
   "cell_type": "code",
   "execution_count": null,
   "metadata": {},
   "outputs": [],
   "source": [
    "df.info()"
   ]
  },
  {
   "cell_type": "code",
   "execution_count": null,
   "metadata": {},
   "outputs": [],
   "source": [
    "df_r.info()"
   ]
  },
  {
   "cell_type": "code",
   "execution_count": null,
   "metadata": {},
   "outputs": [],
   "source": [
    "df['date'] = pd.to_datetime(df['date'])"
   ]
  },
  {
   "cell_type": "markdown",
   "metadata": {},
   "source": [
    "### Filter Last 4 Months"
   ]
  },
  {
   "cell_type": "code",
   "execution_count": null,
   "metadata": {},
   "outputs": [],
   "source": [
    "max_date = df['date'].max()\n",
    "min_date = max_date - pd.to_timedelta(120, unit='d')\n",
    "df = df[df['date'] > min_date]"
   ]
  },
  {
   "cell_type": "markdown",
   "metadata": {},
   "source": [
    "## Exploratory Data Analysis"
   ]
  },
  {
   "cell_type": "code",
   "execution_count": null,
   "metadata": {},
   "outputs": [],
   "source": [
    "plt.hist(df[df[\"bill\"] < df[\"bill\"].quantile(0.95)]['bill']);"
   ]
  },
  {
   "cell_type": "markdown",
   "metadata": {},
   "source": [
    "### Mean by day\n",
    "\n",
    "Let's also analyse the mean by day to see if there's a trend or pattern in time"
   ]
  },
  {
   "cell_type": "code",
   "execution_count": null,
   "metadata": {},
   "outputs": [],
   "source": [
    "df_mean_by_day = df.groupby('date')['bill'].mean()"
   ]
  },
  {
   "cell_type": "code",
   "execution_count": null,
   "metadata": {},
   "outputs": [],
   "source": [
    "r = pd.date_range(start=min_date, end=max_date)\n",
    "df_mean_by_day = df_mean_by_day.reindex(r).rename_axis('date').reset_index().fillna(0)"
   ]
  },
  {
   "cell_type": "code",
   "execution_count": null,
   "metadata": {},
   "outputs": [],
   "source": [
    "from pandas.plotting import register_matplotlib_converters\n",
    "register_matplotlib_converters()\n",
    "\n",
    "plt.plot(df_mean_by_day['date'], df_mean_by_day['bill'])\n",
    "plt.xticks(rotation='vertical');"
   ]
  },
  {
   "cell_type": "code",
   "execution_count": null,
   "metadata": {},
   "outputs": [],
   "source": [
    "def completeItem(dfItem):\n",
    "    min_date = dfItem['date'].min()\n",
    "    max_date = dfItem['date'].max()\n",
    "    if min_date == max_date:\n",
    "        #only one data point\n",
    "        return\n",
    "    r = pd.date_range(start=min_date, end=max_date)\n",
    "    dfItemNew = dfItem.set_index('date').reindex(r).rename_axis('date').reset_index()\n",
    "    \n",
    "    dfItemNew['mean-last-30'] = dfItemNew['bill'].rolling(30,min_periods=1).mean().reset_index()['bill']\n",
    "    dfItemNew['mean-last-7'] = dfItemNew['bill'].rolling(7,min_periods=1).mean().reset_index()['bill']\n",
    "    dfItemNew['std-last-30'] = dfItemNew['bill'].rolling(30,min_periods=1).std().reset_index()['bill']\n",
    "    dfItemNew['bill'] = dfItemNew['bill'].fillna(0)\n",
    "    dfItemNew['id_reseller'] = dfItem['id_reseller'].max()\n",
    "    dfItemNew['std-last-30'].fillna(method='ffill',inplace=True)\n",
    "    dfItemNew['mean-last-7'].fillna(method='ffill',inplace=True)\n",
    "    dfItemNew['std-last-30'].fillna(method='ffill',inplace=True)\n",
    "    resp = []\n",
    "    counter = 0\n",
    "    for index,row in dfItemNew.iterrows(): \n",
    "        resp.append(counter)\n",
    "        if row['bill'] == 0: \n",
    "            counter += 1 \n",
    "        else:\n",
    "            counter = 0\n",
    "    dfItemNew['days_without_purchase'] = pd.Series(resp)\n",
    "    return dfItemNew"
   ]
  },
  {
   "cell_type": "code",
   "execution_count": null,
   "metadata": {},
   "outputs": [],
   "source": [
    "i = 0\n",
    "dfCompletedList = []\n",
    "for nid,item in df.groupby('id_reseller'):\n",
    "    i = i+1\n",
    "    if i%200 == 0:\n",
    "        print ('processed {} resellers'.format(str(i)))\n",
    "    dfCompletedList.append(completeItem(item))"
   ]
  },
  {
   "cell_type": "code",
   "execution_count": null,
   "metadata": {},
   "outputs": [],
   "source": [
    "df = pd.concat(dfCompletedList).copy()\n",
    "#del dfCompletedList\n",
    "df['weekday']  = df['date'].apply(lambda x: x.strftime(\"%A\"))"
   ]
  },
  {
   "cell_type": "code",
   "execution_count": null,
   "metadata": {},
   "outputs": [],
   "source": [
    "df['next_bill'] = df.replace(0,np.nan).groupby('id_reseller')['bill'].fillna(method='bfill')"
   ]
  },
  {
   "cell_type": "code",
   "execution_count": null,
   "metadata": {},
   "outputs": [],
   "source": [
    "df['last_bill'] = df.replace(0,np.nan).groupby('id_reseller')['bill'].fillna(method='ffill').copy()\n",
    "different_zero = df['last_bill'].shift(1)\n",
    "df.loc[df['bill'] != 0,'last_bill'] = np.nan\n",
    "df['last_bill'] = df['last_bill'].fillna(different_zero)"
   ]
  },
  {
   "cell_type": "code",
   "execution_count": null,
   "metadata": {},
   "outputs": [],
   "source": [
    "df.head()"
   ]
  },
  {
   "cell_type": "code",
   "execution_count": null,
   "metadata": {},
   "outputs": [],
   "source": [
    "df.shape"
   ]
  },
  {
   "cell_type": "code",
   "execution_count": null,
   "metadata": {},
   "outputs": [],
   "source": [
    "df.info()"
   ]
  },
  {
   "cell_type": "code",
   "execution_count": null,
   "metadata": {},
   "outputs": [],
   "source": [
    "df = df.dropna().copy()"
   ]
  },
  {
   "cell_type": "code",
   "execution_count": null,
   "metadata": {},
   "outputs": [],
   "source": [
    "#We meassure success computing how many resellers did we predict with less than 15% error.\n",
    "def score_15(y,preds):\n",
    "    return np.sum(np.abs((preds-y)/y) <= 0.15 )/ len(preds)"
   ]
  },
  {
   "cell_type": "code",
   "execution_count": null,
   "metadata": {},
   "outputs": [],
   "source": [
    "score_15(df['next_bill'],df['last_bill'])"
   ]
  },
  {
   "cell_type": "code",
   "execution_count": null,
   "metadata": {},
   "outputs": [],
   "source": [
    "df = pd.concat([df,pd.get_dummies(df.weekday)],axis=1)"
   ]
  },
  {
   "cell_type": "code",
   "execution_count": null,
   "metadata": {},
   "outputs": [],
   "source": [
    "val_resellers = list(pd.Series(df['id_reseller'].unique()).sample(frac=0.1))\n",
    "df_train = df[~df['id_reseller'].isin(val_resellers)].sample(frac=1)\n",
    "df_validation = df[df['id_reseller'].isin(val_resellers)].sample(frac=1)"
   ]
  },
  {
   "cell_type": "code",
   "execution_count": null,
   "metadata": {},
   "outputs": [],
   "source": [
    "df_train.head()"
   ]
  },
  {
   "cell_type": "code",
   "execution_count": null,
   "metadata": {},
   "outputs": [],
   "source": [
    "df_train.columns"
   ]
  },
  {
   "cell_type": "code",
   "execution_count": null,
   "metadata": {},
   "outputs": [],
   "source": [
    "X_train = df_train[['mean-last-30', 'mean-last-7',\n",
    "       'std-last-30', 'days_without_purchase','last_bill', 'Friday', 'Monday', 'Saturday', 'Sunday', 'Thursday',\n",
    "       'Tuesday', 'Wednesday']]"
   ]
  },
  {
   "cell_type": "code",
   "execution_count": null,
   "metadata": {},
   "outputs": [],
   "source": [
    "y_train = df_train['next_bill']"
   ]
  },
  {
   "cell_type": "code",
   "execution_count": null,
   "metadata": {},
   "outputs": [],
   "source": [
    "X_test = df_validation[['mean-last-30', 'mean-last-7',\n",
    "       'std-last-30', 'days_without_purchase','last_bill', 'Friday', 'Monday', 'Saturday', 'Sunday', 'Thursday',\n",
    "       'Tuesday', 'Wednesday']]"
   ]
  },
  {
   "cell_type": "code",
   "execution_count": null,
   "metadata": {},
   "outputs": [],
   "source": [
    "y_test = df_validation['next_bill']"
   ]
  },
  {
   "cell_type": "code",
   "execution_count": null,
   "metadata": {},
   "outputs": [],
   "source": [
    "model = RandomForestRegressor(n_estimators=40,n_jobs=-1)"
   ]
  },
  {
   "cell_type": "code",
   "execution_count": null,
   "metadata": {},
   "outputs": [],
   "source": [
    "model.fit(X_train,y_train)"
   ]
  },
  {
   "cell_type": "code",
   "execution_count": null,
   "metadata": {},
   "outputs": [],
   "source": [
    "preds = model.predict(X_test)"
   ]
  },
  {
   "cell_type": "code",
   "execution_count": null,
   "metadata": {},
   "outputs": [],
   "source": [
    "score_15(y_test,preds)"
   ]
  },
  {
   "cell_type": "code",
   "execution_count": null,
   "metadata": {
    "scrolled": true
   },
   "outputs": [],
   "source": [
    "objects = X_train.columns\n",
    "y_pos = np.arange(len(objects))\n",
    "performance = model.feature_importances_\n",
    "\n",
    "plt.barh(y_pos, performance, align='center', alpha=0.5)\n",
    "plt.yticks(y_pos, objects);"
   ]
  },
  {
   "cell_type": "code",
   "execution_count": null,
   "metadata": {},
   "outputs": [],
   "source": []
  }
 ],
 "metadata": {
  "kernelspec": {
   "display_name": "conda_python3",
   "language": "python",
   "name": "conda_python3"
  },
  "language_info": {
   "codemirror_mode": {
    "name": "ipython",
    "version": 3
   },
   "file_extension": ".py",
   "mimetype": "text/x-python",
   "name": "python",
   "nbconvert_exporter": "python",
   "pygments_lexer": "ipython3",
   "version": "3.6.5"
  }
 },
 "nbformat": 4,
 "nbformat_minor": 2
}
